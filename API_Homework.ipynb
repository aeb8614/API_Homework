{
 "cells": [
  {
   "cell_type": "code",
   "execution_count": 1,
   "metadata": {},
   "outputs": [],
   "source": [
    "#Observable Trends\n",
    "    #higher latitudes have higher windspeeds\n",
    "    #tempature is consistently higher in the souther hemisphere and is steadily decreases the further north of the equator\n",
    "    #the lower the cloudiness the higher the humidity"
   ]
  },
  {
   "cell_type": "code",
   "execution_count": 2,
   "metadata": {},
   "outputs": [],
   "source": [
    "#Import Dependencies\n",
    "import pandas as pd\n",
    "import numpy as np\n",
    "import random\n",
    "from config import api_key\n",
    "from citipy import citipy\n",
    "import openweathermapy as owm\n",
    "\n",
    "import matplotlib.pyplot as plt\n",
    "import matplotlib\n",
    "plt.style.use(\"seaborn\")\n",
    "\n",
    "#import requests"
   ]
  },
  {
   "cell_type": "code",
   "execution_count": 3,
   "metadata": {},
   "outputs": [
    {
     "data": {
      "text/html": [
       "<div>\n",
       "<style scoped>\n",
       "    .dataframe tbody tr th:only-of-type {\n",
       "        vertical-align: middle;\n",
       "    }\n",
       "\n",
       "    .dataframe tbody tr th {\n",
       "        vertical-align: top;\n",
       "    }\n",
       "\n",
       "    .dataframe thead th {\n",
       "        text-align: right;\n",
       "    }\n",
       "</style>\n",
       "<table border=\"1\" class=\"dataframe\">\n",
       "  <thead>\n",
       "    <tr style=\"text-align: right;\">\n",
       "      <th></th>\n",
       "      <th>Latitude</th>\n",
       "      <th>Longitude</th>\n",
       "    </tr>\n",
       "  </thead>\n",
       "  <tbody>\n",
       "    <tr>\n",
       "      <th>0</th>\n",
       "      <td>12.358289</td>\n",
       "      <td>-149.917143</td>\n",
       "    </tr>\n",
       "    <tr>\n",
       "      <th>1</th>\n",
       "      <td>53.526634</td>\n",
       "      <td>-31.542598</td>\n",
       "    </tr>\n",
       "    <tr>\n",
       "      <th>2</th>\n",
       "      <td>-70.445868</td>\n",
       "      <td>-133.293850</td>\n",
       "    </tr>\n",
       "    <tr>\n",
       "      <th>3</th>\n",
       "      <td>-79.522890</td>\n",
       "      <td>-43.761220</td>\n",
       "    </tr>\n",
       "    <tr>\n",
       "      <th>4</th>\n",
       "      <td>13.160657</td>\n",
       "      <td>-113.970853</td>\n",
       "    </tr>\n",
       "  </tbody>\n",
       "</table>\n",
       "</div>"
      ],
      "text/plain": [
       "    Latitude   Longitude\n",
       "0  12.358289 -149.917143\n",
       "1  53.526634  -31.542598\n",
       "2 -70.445868 -133.293850\n",
       "3 -79.522890  -43.761220\n",
       "4  13.160657 -113.970853"
      ]
     },
     "execution_count": 3,
     "metadata": {},
     "output_type": "execute_result"
    }
   ],
   "source": [
    "lat = []\n",
    "long = []\n",
    "\n",
    "\n",
    "#generate random number for latitute, range from -90 to 90\n",
    "for x in range(2000):\n",
    "    lat.append(random.uniform(-90,90))\n",
    "\n",
    "#gnerate randome numbers for long, range form -180 to 180\n",
    "for x in range(2000):\n",
    "    long.append(random.uniform(-180,180))\n",
    "    \n",
    "locations_df = pd.DataFrame({\"Latitude\": lat, \"Longitude\": long})\n",
    "locations_df.head()\n"
   ]
  },
  {
   "cell_type": "code",
   "execution_count": 4,
   "metadata": {},
   "outputs": [
    {
     "name": "stderr",
     "output_type": "stream",
     "text": [
      "/Users/annabower/anaconda3/lib/python3.6/site-packages/ipykernel_launcher.py:5: FutureWarning: set_value is deprecated and will be removed in a future release. Please use .at[] or .iat[] accessors instead\n",
      "  \"\"\"\n",
      "/Users/annabower/anaconda3/lib/python3.6/site-packages/ipykernel_launcher.py:6: FutureWarning: set_value is deprecated and will be removed in a future release. Please use .at[] or .iat[] accessors instead\n",
      "  \n"
     ]
    },
    {
     "data": {
      "text/html": [
       "<div>\n",
       "<style scoped>\n",
       "    .dataframe tbody tr th:only-of-type {\n",
       "        vertical-align: middle;\n",
       "    }\n",
       "\n",
       "    .dataframe tbody tr th {\n",
       "        vertical-align: top;\n",
       "    }\n",
       "\n",
       "    .dataframe thead th {\n",
       "        text-align: right;\n",
       "    }\n",
       "</style>\n",
       "<table border=\"1\" class=\"dataframe\">\n",
       "  <thead>\n",
       "    <tr style=\"text-align: right;\">\n",
       "      <th></th>\n",
       "      <th>City</th>\n",
       "      <th>Country code</th>\n",
       "    </tr>\n",
       "  </thead>\n",
       "  <tbody>\n",
       "    <tr>\n",
       "      <th>0</th>\n",
       "      <td>hilo</td>\n",
       "      <td>us</td>\n",
       "    </tr>\n",
       "    <tr>\n",
       "      <th>1</th>\n",
       "      <td>tasiilaq</td>\n",
       "      <td>gl</td>\n",
       "    </tr>\n",
       "    <tr>\n",
       "      <th>2</th>\n",
       "      <td>rikitea</td>\n",
       "      <td>pf</td>\n",
       "    </tr>\n",
       "    <tr>\n",
       "      <th>3</th>\n",
       "      <td>ushuaia</td>\n",
       "      <td>ar</td>\n",
       "    </tr>\n",
       "    <tr>\n",
       "      <th>4</th>\n",
       "      <td>cabo san lucas</td>\n",
       "      <td>mx</td>\n",
       "    </tr>\n",
       "  </tbody>\n",
       "</table>\n",
       "</div>"
      ],
      "text/plain": [
       "             City Country code\n",
       "0            hilo           us\n",
       "1        tasiilaq           gl\n",
       "2         rikitea           pf\n",
       "3         ushuaia           ar\n",
       "4  cabo san lucas           mx"
      ]
     },
     "execution_count": 4,
     "metadata": {},
     "output_type": "execute_result"
    }
   ],
   "source": [
    "#Using citipy to get the closest city:\n",
    "\n",
    "for index,row in locations_df.iterrows():\n",
    "    city = citipy.nearest_city(row[\"Latitude\"],row[\"Longitude\"])\n",
    "    locations_df.set_value(index,\"City\",city.city_name)\n",
    "    locations_df.set_value(index,\"Country code\",city.country_code)\n",
    "\n",
    "#Dropping the lat and long column from the dataframe (not the actual coordinates of the cities)\n",
    "clean_locations_df = locations_df.drop(['Latitude', 'Longitude'],axis=1)\n",
    "\n",
    "#Dropping duplicate any cities in dataframe\n",
    "clean_locations_df = clean_locations_df.drop_duplicates()\n",
    "\n",
    "clean_locations_df.head()"
   ]
  },
  {
   "cell_type": "code",
   "execution_count": 5,
   "metadata": {},
   "outputs": [
    {
     "data": {
      "text/html": [
       "<div>\n",
       "<style scoped>\n",
       "    .dataframe tbody tr th:only-of-type {\n",
       "        vertical-align: middle;\n",
       "    }\n",
       "\n",
       "    .dataframe tbody tr th {\n",
       "        vertical-align: top;\n",
       "    }\n",
       "\n",
       "    .dataframe thead th {\n",
       "        text-align: right;\n",
       "    }\n",
       "</style>\n",
       "<table border=\"1\" class=\"dataframe\">\n",
       "  <thead>\n",
       "    <tr style=\"text-align: right;\">\n",
       "      <th></th>\n",
       "      <th>City</th>\n",
       "      <th>Country code</th>\n",
       "    </tr>\n",
       "  </thead>\n",
       "  <tbody>\n",
       "    <tr>\n",
       "      <th>0</th>\n",
       "      <td>lawton</td>\n",
       "      <td>us</td>\n",
       "    </tr>\n",
       "    <tr>\n",
       "      <th>1</th>\n",
       "      <td>klyuchi</td>\n",
       "      <td>ru</td>\n",
       "    </tr>\n",
       "    <tr>\n",
       "      <th>2</th>\n",
       "      <td>colac</td>\n",
       "      <td>au</td>\n",
       "    </tr>\n",
       "    <tr>\n",
       "      <th>3</th>\n",
       "      <td>aflu</td>\n",
       "      <td>dz</td>\n",
       "    </tr>\n",
       "    <tr>\n",
       "      <th>4</th>\n",
       "      <td>yar-sale</td>\n",
       "      <td>ru</td>\n",
       "    </tr>\n",
       "  </tbody>\n",
       "</table>\n",
       "</div>"
      ],
      "text/plain": [
       "       City Country code\n",
       "0    lawton           us\n",
       "1   klyuchi           ru\n",
       "2     colac           au\n",
       "3      aflu           dz\n",
       "4  yar-sale           ru"
      ]
     },
     "execution_count": 5,
     "metadata": {},
     "output_type": "execute_result"
    }
   ],
   "source": [
    "# Picking a sample of 500 cities to proceed with analysis\n",
    "sample_locations = clean_locations_df.sample(500)\n",
    "\n",
    "sample_locations = sample_locations.reset_index(drop=True)\n",
    "sample_locations.head()"
   ]
  },
  {
   "cell_type": "code",
   "execution_count": 6,
   "metadata": {},
   "outputs": [
    {
     "name": "stderr",
     "output_type": "stream",
     "text": [
      "/Users/annabower/anaconda3/lib/python3.6/site-packages/ipykernel_launcher.py:8: FutureWarning: set_value is deprecated and will be removed in a future release. Please use .at[] or .iat[] accessors instead\n",
      "  \n",
      "/Users/annabower/anaconda3/lib/python3.6/site-packages/ipykernel_launcher.py:9: FutureWarning: set_value is deprecated and will be removed in a future release. Please use .at[] or .iat[] accessors instead\n",
      "  if __name__ == '__main__':\n",
      "/Users/annabower/anaconda3/lib/python3.6/site-packages/ipykernel_launcher.py:10: FutureWarning: set_value is deprecated and will be removed in a future release. Please use .at[] or .iat[] accessors instead\n",
      "  # Remove the CWD from sys.path while we load stuff.\n",
      "/Users/annabower/anaconda3/lib/python3.6/site-packages/ipykernel_launcher.py:11: FutureWarning: set_value is deprecated and will be removed in a future release. Please use .at[] or .iat[] accessors instead\n",
      "  # This is added back by InteractiveShellApp.init_path()\n",
      "/Users/annabower/anaconda3/lib/python3.6/site-packages/ipykernel_launcher.py:12: FutureWarning: set_value is deprecated and will be removed in a future release. Please use .at[] or .iat[] accessors instead\n",
      "  if sys.path[0] == '':\n",
      "/Users/annabower/anaconda3/lib/python3.6/site-packages/ipykernel_launcher.py:13: FutureWarning: set_value is deprecated and will be removed in a future release. Please use .at[] or .iat[] accessors instead\n",
      "  del sys.path[0]\n",
      "/Users/annabower/anaconda3/lib/python3.6/site-packages/ipykernel_launcher.py:22: FutureWarning: set_value is deprecated and will be removed in a future release. Please use .at[] or .iat[] accessors instead\n"
     ]
    },
    {
     "data": {
      "text/html": [
       "<div>\n",
       "<style scoped>\n",
       "    .dataframe tbody tr th:only-of-type {\n",
       "        vertical-align: middle;\n",
       "    }\n",
       "\n",
       "    .dataframe tbody tr th {\n",
       "        vertical-align: top;\n",
       "    }\n",
       "\n",
       "    .dataframe thead th {\n",
       "        text-align: right;\n",
       "    }\n",
       "</style>\n",
       "<table border=\"1\" class=\"dataframe\">\n",
       "  <thead>\n",
       "    <tr style=\"text-align: right;\">\n",
       "      <th></th>\n",
       "      <th>City</th>\n",
       "      <th>Country code</th>\n",
       "      <th>Latitude</th>\n",
       "      <th>Longitude</th>\n",
       "      <th>Temperature</th>\n",
       "      <th>Wind speed</th>\n",
       "      <th>Humidity</th>\n",
       "      <th>Cloudiness</th>\n",
       "    </tr>\n",
       "  </thead>\n",
       "  <tbody>\n",
       "    <tr>\n",
       "      <th>0</th>\n",
       "      <td>lawton</td>\n",
       "      <td>us</td>\n",
       "      <td>34.61</td>\n",
       "      <td>-98.39</td>\n",
       "      <td>34.520</td>\n",
       "      <td>1.50</td>\n",
       "      <td>74.0</td>\n",
       "      <td>90.0</td>\n",
       "    </tr>\n",
       "    <tr>\n",
       "      <th>1</th>\n",
       "      <td>klyuchi</td>\n",
       "      <td>ru</td>\n",
       "      <td>52.25</td>\n",
       "      <td>79.17</td>\n",
       "      <td>31.082</td>\n",
       "      <td>5.16</td>\n",
       "      <td>72.0</td>\n",
       "      <td>76.0</td>\n",
       "    </tr>\n",
       "    <tr>\n",
       "      <th>2</th>\n",
       "      <td>colac</td>\n",
       "      <td>au</td>\n",
       "      <td>-38.34</td>\n",
       "      <td>143.59</td>\n",
       "      <td>59.972</td>\n",
       "      <td>1.86</td>\n",
       "      <td>79.0</td>\n",
       "      <td>92.0</td>\n",
       "    </tr>\n",
       "    <tr>\n",
       "      <th>3</th>\n",
       "      <td>aflu</td>\n",
       "      <td>dz</td>\n",
       "      <td>NaN</td>\n",
       "      <td>NaN</td>\n",
       "      <td>NaN</td>\n",
       "      <td>NaN</td>\n",
       "      <td>NaN</td>\n",
       "      <td>NaN</td>\n",
       "    </tr>\n",
       "    <tr>\n",
       "      <th>4</th>\n",
       "      <td>yar-sale</td>\n",
       "      <td>ru</td>\n",
       "      <td>66.83</td>\n",
       "      <td>70.83</td>\n",
       "      <td>-0.328</td>\n",
       "      <td>7.11</td>\n",
       "      <td>78.0</td>\n",
       "      <td>20.0</td>\n",
       "    </tr>\n",
       "  </tbody>\n",
       "</table>\n",
       "</div>"
      ],
      "text/plain": [
       "       City Country code  Latitude  Longitude  Temperature  Wind speed  \\\n",
       "0    lawton           us     34.61     -98.39       34.520        1.50   \n",
       "1   klyuchi           ru     52.25      79.17       31.082        5.16   \n",
       "2     colac           au    -38.34     143.59       59.972        1.86   \n",
       "3      aflu           dz       NaN        NaN          NaN         NaN   \n",
       "4  yar-sale           ru     66.83      70.83       -0.328        7.11   \n",
       "\n",
       "   Humidity  Cloudiness  \n",
       "0      74.0        90.0  \n",
       "1      72.0        76.0  \n",
       "2      79.0        92.0  \n",
       "3       NaN         NaN  \n",
       "4      78.0        20.0  "
      ]
     },
     "execution_count": 6,
     "metadata": {},
     "output_type": "execute_result"
    }
   ],
   "source": [
    "settings = {\"units\": \"metric\", \"appid\": api_key}\n",
    "\n",
    "# Get weather\n",
    "    \n",
    "for index,row in sample_locations.iterrows():\n",
    "    try:\n",
    "        raw_data = owm.get_current(row[\"City\"], **settings)      \n",
    "        sample_locations.set_value(index,\"Latitude\",raw_data.get(\"coord\",{}).get(\"lat\"))\n",
    "        sample_locations.set_value(index,\"Longitude\",raw_data.get(\"coord\",{}).get(\"lon\"))\n",
    "        sample_locations.set_value(index,\"Temperature\",raw_data.get(\"main\",{}).get(\"temp\"))\n",
    "        sample_locations.set_value(index,\"Wind speed\",raw_data.get(\"wind\",{}).get(\"speed\"))\n",
    "        sample_locations.set_value(index,\"Humidity\",raw_data.get(\"main\",{}).get(\"humidity\"))\n",
    "        sample_locations.set_value(index,\"Cloudiness\",raw_data.get(\"clouds\",{}).get(\"all\"))\n",
    "    except:\n",
    "        pass  \n",
    "\n",
    "\n",
    "    \n",
    "#Multiply by 9, then divide by 5, then add 32\n",
    "for index,row in sample_locations.iterrows():\n",
    "    F_temp = ((row[\"Temperature\"]*9/5)+32)\n",
    "    sample_locations.set_value(index, \"Temperature\", F_temp)\n",
    "sample_locations.head()"
   ]
  },
  {
   "cell_type": "code",
   "execution_count": 7,
   "metadata": {},
   "outputs": [],
   "source": [
    "#removing cities with no data\n",
    "sample_locations = sample_locations.dropna()\n",
    "\n",
    "sample_locations.to_csv(\"sample_weather_data.csv\")"
   ]
  },
  {
   "cell_type": "code",
   "execution_count": 8,
   "metadata": {},
   "outputs": [],
   "source": [
    "# Plot settings\n",
    "def set_plot_prop(x_title,x_lim,y_title):\n",
    "    plt.title(f\"{y_title} vs {x_title}\")\n",
    "    plt.ylabel(y_title)\n",
    "    plt.xlabel(x_title)\n",
    "    plt.grid(True)\n",
    "    plt.xlim(x_lim)"
   ]
  },
  {
   "cell_type": "code",
   "execution_count": 9,
   "metadata": {},
   "outputs": [
    {
     "data": {
      "image/png": "[encoded data removed]",
      "text/plain": [
       "<matplotlib.figure.Figure at 0x10f117fd0>"
      ]
     },
     "metadata": {},
     "output_type": "display_data"
    }
   ],
   "source": [
    "# Temperature vs Latitude \n",
    "sample_locations.plot(kind=\"scatter\",x=\"Latitude\",y=\"Temperature\",grid=True,color=\"purple\")\n",
    "set_plot_prop(\"Latitude\",[-90,90],\"Temperature (F)\")\n",
    "plt.axvline(0, color='black',alpha=0.25)\n",
    "plt.savefig(\"Temperature vs Latitude\")\n",
    "plt.show()"
   ]
  },
  {
   "cell_type": "code",
   "execution_count": 10,
   "metadata": {},
   "outputs": [
    {
     "data": {
      "image/png": "[encoded data removed]",
      "text/plain": [
       "<matplotlib.figure.Figure at 0x10efc8e80>"
      ]
     },
     "metadata": {},
     "output_type": "display_data"
    }
   ],
   "source": [
    "# Humidity vs Latitude \n",
    "sample_locations.plot(kind=\"scatter\",x=\"Latitude\",y=\"Humidity\",grid=True,color=\"purple\")\n",
    "set_plot_prop(\"Latitude\",[-90,90],\"Humidity\")\n",
    "plt.axvline(0, color='black',alpha=0.25)\n",
    "plt.savefig(\"Humidity vs Latitude\")\n",
    "plt.show()"
   ]
  },
  {
   "cell_type": "code",
   "execution_count": 11,
   "metadata": {},
   "outputs": [
    {
     "data": {
      "image/png": "[encoded data removed]",
      "text/plain": [
       "<matplotlib.figure.Figure at 0x117c77358>"
      ]
     },
     "metadata": {},
     "output_type": "display_data"
    }
   ],
   "source": [
    "# Cloudiness vs Latitude\n",
    "sample_locations[\"Cloudiness\"] = pd.to_numeric(sample_locations[\"Cloudiness\"])\n",
    "sample_locations.plot(kind=\"scatter\",x=\"Latitude\",y=\"Cloudiness\",grid=True,color=\"purple\")\n",
    "set_plot_prop(\"Latitude\",[-90,90],\"Cloudiness\")\n",
    "plt.axvline(0, color='black',alpha=0.25)\n",
    "plt.savefig(\"Cloudiness vs Latitude\")\n",
    "plt.show()"
   ]
  },
  {
   "cell_type": "code",
   "execution_count": 12,
   "metadata": {},
   "outputs": [
    {
     "data": {
      "image/png": "[encoded data removed]",
      "text/plain": [
       "<matplotlib.figure.Figure at 0x117c6d588>"
      ]
     },
     "metadata": {},
     "output_type": "display_data"
    }
   ],
   "source": [
    "# Wind speed vs Latitude\n",
    "sample_locations[\"Wind speed\"] = pd.to_numeric(sample_locations[\"Wind speed\"])\n",
    "sample_locations.plot(kind=\"scatter\",x=\"Latitude\",y=\"Wind speed\",grid=True,color=\"purple\")\n",
    "set_plot_prop(\"Latitude\",[-90,90],\"Wind speed (mph)\")\n",
    "plt.axvline(0, color='black',alpha=0.25)\n",
    "plt.savefig(\"Wind speed vs Latitude\")\n",
    "plt.show()"
   ]
  },
  {
   "cell_type": "code",
   "execution_count": null,
   "metadata": {},
   "outputs": [],
   "source": []
  }
 ],
 "metadata": {
  "kernelspec": {
   "display_name": "Python 3",
   "language": "python",
   "name": "python3"
  },
  "language_info": {
   "codemirror_mode": {
    "name": "ipython",
    "version": 3
   },
   "file_extension": ".py",
   "mimetype": "text/x-python",
   "name": "python",
   "nbconvert_exporter": "python",
   "pygments_lexer": "ipython3",
   "version": "3.6.4"
  }
 },
 "nbformat": 4,
 "nbformat_minor": 2
}
